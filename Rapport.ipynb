{
 "cells": [
  {
   "cell_type": "markdown",
   "id": "db9702b7",
   "metadata": {},
   "source": [
    "# **Rapport PIAE - Analyse de son**\n",
    "## Tom GERMAIN, Hugo LE CARDINAL, Andrea ZANCHETTA"
   ]
  },
  {
   "cell_type": "markdown",
   "id": "59bd1217",
   "metadata": {},
   "source": [
    "## **Partie 0** \n",
    "### Incertitudes Capteur"
   ]
  },
  {
   "cell_type": "code",
   "execution_count": null,
   "id": "1603fb62",
   "metadata": {},
   "outputs": [],
   "source": []
  },
  {
   "cell_type": "markdown",
   "id": "57df293a",
   "metadata": {},
   "source": [
    "## **Partie 1**\n",
    "### Comparaison du timbre de la guitare et piano"
   ]
  },
  {
   "cell_type": "markdown",
   "id": "1003ba26",
   "metadata": {},
   "source": [
    "### 1.1 Étude de l'enveloppe guitare et piano"
   ]
  },
  {
   "cell_type": "markdown",
   "id": "62e3a4f7",
   "metadata": {},
   "source": [
    "-  guitare\n",
    "-  piano\n",
    "-  bonus: influence de la note touché sur la caracteristique de son"
   ]
  },
  {
   "cell_type": "code",
   "execution_count": null,
   "id": "ae167525",
   "metadata": {},
   "outputs": [],
   "source": []
  },
  {
   "cell_type": "markdown",
   "id": "01994833",
   "metadata": {},
   "source": [
    "### 1.2 Étude du spéctre de la guitare et piano"
   ]
  },
  {
   "cell_type": "markdown",
   "id": "46eb054f",
   "metadata": {},
   "source": [
    "-  guitare\n",
    "-  piano\n",
    "-  bonus: influence de la note touché sur la caracteristique de son"
   ]
  },
  {
   "cell_type": "code",
   "execution_count": null,
   "id": "a4969cb6",
   "metadata": {},
   "outputs": [],
   "source": []
  },
  {
   "cell_type": "markdown",
   "id": "bb79c127",
   "metadata": {},
   "source": [
    "On commence par l'importation des libraires nécessaires"
   ]
  },
  {
   "cell_type": "code",
   "execution_count": 4,
   "id": "bcf57fc9",
   "metadata": {},
   "outputs": [],
   "source": [
    "import librosa\n",
    "import numpy as np"
   ]
  },
  {
   "cell_type": "code",
   "execution_count": null,
   "id": "7976bb1a",
   "metadata": {},
   "outputs": [],
   "source": []
  },
  {
   "cell_type": "code",
   "execution_count": 5,
   "id": "92e39b9d",
   "metadata": {},
   "outputs": [],
   "source": [
    "y_f4 = prepare_audio(\"Audio_HD/F4.wav\", 1, 7)"
   ]
  },
  {
   "cell_type": "markdown",
   "id": "f7b37213",
   "metadata": {},
   "source": [
    "## **Partie 2**\n",
    "### Étude de l'harmonicité d'un accord"
   ]
  },
  {
   "cell_type": "markdown",
   "id": "a5d64816",
   "metadata": {},
   "source": [
    "### 2.1 Première approche : à partir des notes séparés"
   ]
  },
  {
   "cell_type": "markdown",
   "id": "a6654ba1",
   "metadata": {},
   "source": [
    "-  multiplicité des spéctres"
   ]
  },
  {
   "cell_type": "code",
   "execution_count": null,
   "id": "1bde2511",
   "metadata": {},
   "outputs": [],
   "source": []
  },
  {
   "cell_type": "markdown",
   "id": "42f05559",
   "metadata": {},
   "source": [
    "Préparer les enrègistrement audios"
   ]
  },
  {
   "cell_type": "markdown",
   "id": "d4b8a0f8",
   "metadata": {},
   "source": [
    "### 2.2 À partir d'un accord unique"
   ]
  },
  {
   "cell_type": "markdown",
   "id": "251c67f4",
   "metadata": {},
   "source": [
    "-  analyse à partir des fondamentales"
   ]
  },
  {
   "cell_type": "code",
   "execution_count": null,
   "id": "b8733e93",
   "metadata": {},
   "outputs": [],
   "source": []
  }
 ],
 "metadata": {
  "kernelspec": {
   "display_name": "base",
   "language": "python",
   "name": "python3"
  },
  "language_info": {
   "codemirror_mode": {
    "name": "ipython",
    "version": 3
   },
   "file_extension": ".py",
   "mimetype": "text/x-python",
   "name": "python",
   "nbconvert_exporter": "python",
   "pygments_lexer": "ipython3",
   "version": "3.9.13"
  }
 },
 "nbformat": 4,
 "nbformat_minor": 5
}
